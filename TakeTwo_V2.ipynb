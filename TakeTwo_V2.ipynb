{
 "cells": [
  {
   "cell_type": "code",
   "execution_count": 1,
   "metadata": {
    "collapsed": false
   },
   "outputs": [
    {
     "name": "stdout",
     "output_type": "stream",
     "text": [
      "Preparing...\n",
      "Reading Keywords\n"
     ]
    }
   ],
   "source": [
    "#V2 strip the commas\n",
    "print(\"Preparing...\")\n",
    "import glob\n",
    "import pandas as pd\n",
    "\n",
    "from collections import Counter\n",
    "import re\n",
    "\n",
    "path_documents = \"*.txt\"\n",
    "path_inp = \"*.dat\"\n",
    "\n",
    "\n",
    "print(\"Reading Keywords\")\n",
    "### Reads Keywords from your file\n",
    "for file in glob.glob(path_inp):\n",
    "    f = open(file,\"r\",encoding='utf-8')\n",
    "    inp = f.read()\n",
    "    keywords = [line for line in inp.splitlines()] # makes a list of keywords\n",
    "    "
   ]
  },
  {
   "cell_type": "code",
   "execution_count": 2,
   "metadata": {
    "collapsed": false
   },
   "outputs": [
    {
     "name": "stdout",
     "output_type": "stream",
     "text": [
      "Let's get started.\n",
      "Analyzing: 05_Tajikistan_1994_May_all.txt\n",
      "Analyzing: 08_Tajikistan_1994_August_001400.txt\n",
      "Analyzing: 09_Tajikistan_1994_August_401524.txt\n",
      "Analyzing: 11_Tajikistan_1994_September_301633.txt\n",
      "Analyzing: 12_Tajikistan_1994_October_001400.txt\n",
      "Analyzing: 13_Tajikistan_1994_October_401632.txt\n"
     ]
    }
   ],
   "source": [
    "print(\"Let's get started.\")\n",
    "total = {}\n",
    "dict_top100 = {}\n",
    "final_wordfrequency = {}\n",
    "\n",
    "for file in glob.glob(path_documents):\n",
    "    total[file]={}\n",
    "    print(\"Analyzing: \" + str(file))\n",
    "    f = open(file,\"r\",errors = \"surrogateescape\") # In case there is an error with the formatting, it tries to handle\n",
    "    mystring = f.read() #Reads the file\n",
    "    #print(len(mystring))\n",
    "    mystring = re.sub(r'\\s+',\" \",mystring)\n",
    "    #print(len(mystring))\n",
    "    mystring = re.sub(r'\\n',\" \",mystring)\n",
    "    mystring = re.sub(r'\\,',\" \",mystring)\n",
    "    mystring = (mystring.encode(\"ascii\",errors=\"ignore\")).decode(\"utf-8\",errors=\"ignore\")\n",
    "    #print(len(mystring))\n",
    "    for key in keywords:\n",
    "        total[file][key]=[]\n",
    "        for  i in re.finditer(key,mystring):\n",
    "            #print(\"hey\")\n",
    "            if i.span()[0]> 50 and  i.span()[1]+50 < len(mystring): \n",
    "                total[file][key].append(mystring[i.span()[0]-50:i.span()[1]+50])\n",
    "            elif i.span()[1]+50 < len(mystring):\n",
    "                total[file][key].append(mystring[0:i.span()[1]+50].strip(\"\\n\"))\n",
    "            else:\n",
    "                total[file][key].append(mystring[i.span()[0]-50:len(mystring)].strip(\"\\n\"))\n",
    "\n",
    "df = pd.DataFrame(total)\n"
   ]
  },
  {
   "cell_type": "code",
   "execution_count": 3,
   "metadata": {
    "collapsed": false
   },
   "outputs": [
    {
     "name": "stdout",
     "output_type": "stream",
     "text": [
      "All Done!\n"
     ]
    }
   ],
   "source": [
    "final_output = open(\"finaloutput2.csv\",\"w\")\n",
    "final_output.write(\"FileName, Keyword, Sentence\\n\")\n",
    "for keyword in keywords:\n",
    "    col_key = keyword\n",
    "    for column in df.columns:\n",
    "        col_file = column\n",
    "        for i in range(len(total[column][keyword])):\n",
    "            sentence = str(total[column][keyword][i]).replace(\",\",\" \")\n",
    "            final_output.write(col_file + \", \" + col_key + \", \" + sentence + \"\\n\")\n",
    "final_output.close()\n",
    "\n",
    "df_temp = pd.read_csv(\"finaloutput2.csv\")\n",
    "grouped = df_temp.groupby([' Keyword','FileName'])\n",
    "df_temp2 = grouped.count()\n",
    "df_temp2.columns = ['Frequency']\n",
    "df_temp2.to_csv(\"Frequency_updated2.csv\")\n",
    "\n",
    "print(\"All Done!\")"
   ]
  },
  {
   "cell_type": "code",
   "execution_count": null,
   "metadata": {
    "collapsed": true
   },
   "outputs": [],
   "source": []
  }
 ],
 "metadata": {
  "kernelspec": {
   "display_name": "Python 3",
   "language": "python",
   "name": "python3"
  },
  "language_info": {
   "codemirror_mode": {
    "name": "ipython",
    "version": 3
   },
   "file_extension": ".py",
   "mimetype": "text/x-python",
   "name": "python",
   "nbconvert_exporter": "python",
   "pygments_lexer": "ipython3",
   "version": "3.5.1"
  }
 },
 "nbformat": 4,
 "nbformat_minor": 0
}
