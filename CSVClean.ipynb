{
 "cells": [
  {
   "cell_type": "code",
   "execution_count": 8,
   "metadata": {
    "collapsed": true
   },
   "outputs": [],
   "source": [
    "import string\n",
    "#import os"
   ]
  },
  {
   "cell_type": "code",
   "execution_count": 13,
   "metadata": {
    "collapsed": false
   },
   "outputs": [
    {
     "name": "stdout",
     "output_type": "stream",
     "text": [
      "<class 'bytes'> 2699378\n"
     ]
    }
   ],
   "source": [
    "f = open(file=\"index_for_searches.csv\", mode = 'r',encoding='utf-8')\n",
    "text = f.read()\n",
    "text = text.encode(\"ascii\",errors='ignore')\n",
    "f.close()\n",
    "\n",
    "#print(type(text),len(text))\n",
    "f = open(file=\"index_for_searches_clean.csv\", mode = 'w',encoding='utf-8')\n",
    "text = text.decode('utf-8')\n",
    "f.write(text)\n",
    "f.close()\n",
    "\n",
    "#os.remove(\"index_for_searches.csv\")"
   ]
  },
  {
   "cell_type": "code",
   "execution_count": null,
   "metadata": {
    "collapsed": true
   },
   "outputs": [],
   "source": []
  }
 ],
 "metadata": {
  "kernelspec": {
   "display_name": "Python 3",
   "language": "python",
   "name": "python3"
  },
  "language_info": {
   "codemirror_mode": {
    "name": "ipython",
    "version": 3
   },
   "file_extension": ".py",
   "mimetype": "text/x-python",
   "name": "python",
   "nbconvert_exporter": "python",
   "pygments_lexer": "ipython3",
   "version": "3.5.1"
  }
 },
 "nbformat": 4,
 "nbformat_minor": 0
}
